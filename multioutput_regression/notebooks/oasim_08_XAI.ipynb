{
 "cells": [
  {
   "cell_type": "code",
   "execution_count": 1,
   "metadata": {},
   "outputs": [],
   "source": [
    "from pathlib import Path\n",
    "import joblib\n",
    "import pandas as pd\n",
    "from loguru import logger\n",
    "from scripts.evaluate import plot_shap, compute_shapley_values, get_main_features\n",
    "import matplotlib.pyplot as pp"
   ]
  },
  {
   "cell_type": "code",
   "execution_count": 2,
   "metadata": {},
   "outputs": [],
   "source": [
    "project_path = Path.cwd().parent"
   ]
  },
  {
   "cell_type": "code",
   "execution_count": 3,
   "metadata": {},
   "outputs": [
    {
     "name": "stderr",
     "output_type": "stream",
     "text": [
      "\u001b[32m2025-03-20 16:03:47.906\u001b[0m | \u001b[1mINFO    \u001b[0m | \u001b[36m__main__\u001b[0m:\u001b[36m<module>\u001b[0m:\u001b[36m3\u001b[0m - \u001b[1mModel loaded successfully.\u001b[0m\n"
     ]
    }
   ],
   "source": [
    "# Reloading the optimzied and trained model\n",
    "optimized_model = joblib.load(project_path / \"models/optimized_trained_model.pkl\")\n",
    "logger.info(\"Model loaded successfully.\")"
   ]
  },
  {
   "cell_type": "code",
   "execution_count": 4,
   "metadata": {},
   "outputs": [],
   "source": [
    "# Load the test set\n",
    "dX_test = pd.read_parquet(project_path / \"models\" / \"dX_test.pqt\")\n",
    "dY_test = pd.read_parquet(project_path / \"models\" / \"dY_test.pqt\")\n"
   ]
  },
  {
   "cell_type": "code",
   "execution_count": 5,
   "metadata": {},
   "outputs": [
    {
     "data": {
      "text/plain": [
       "{'dia': 0, 'chl': 1, 'cya': 2, 'coc': 3, 'din': 4, 'pha': 5, 'tot_cphyl': 6}"
      ]
     },
     "execution_count": 5,
     "metadata": {},
     "output_type": "execute_result"
    }
   ],
   "source": [
    "model_nums = {k:i for i, k in enumerate(dY_test.columns)}\n",
    "model_nums"
   ]
  },
  {
   "cell_type": "code",
   "execution_count": 6,
   "metadata": {},
   "outputs": [],
   "source": [
    "full_names = {\n",
    "    'dia': 'Diatom', 'chl': 'Chlorophyte', 'cya': 'Cyanobacteria',\n",
    "    'coc': 'Coccolithophore', 'din': 'Dinoflagellate',\n",
    "    'pha': 'Phaeocystis', 'tot_cphyl': 'Total Chlorophyll' }"
   ]
  },
  {
   "cell_type": "code",
   "execution_count": 7,
   "metadata": {},
   "outputs": [],
   "source": [
    "dX_test_subsampled = dX_test.sample(1000, random_state=42)"
   ]
  },
  {
   "cell_type": "code",
   "execution_count": 8,
   "metadata": {},
   "outputs": [],
   "source": [
    "def compute_and_plot_shaps(\n",
    "        target, model_num, show_n_features=-1, xlabel=None, title=None):\n",
    "    model = optimized_model.estimators_[model_num]\n",
    "    shap_vals = compute_shapley_values(\n",
    "        model=model, X=dX_test_subsampled\n",
    "        )\n",
    "    plot_shap(\n",
    "        shap_values=shap_vals, X=dX_test_subsampled, target_name=target, \n",
    "        input_types='rrs_env', max_display=show_n_features, xlabel=xlabel,\n",
    "        title=title)\n",
    "    logger.info(f'Saved figure as shap_rrs_env_{target}.png')\n",
    "    pp.clf()"
   ]
  },
  {
   "cell_type": "code",
   "execution_count": 9,
   "metadata": {},
   "outputs": [
    {
     "name": "stderr",
     "output_type": "stream",
     "text": [
      "\u001b[32m2025-03-20 16:04:03.290\u001b[0m | \u001b[1mINFO    \u001b[0m | \u001b[36m__main__\u001b[0m:\u001b[36mcompute_and_plot_shaps\u001b[0m:\u001b[36m11\u001b[0m - \u001b[1mSaved figure as shap_rrs_env_dia.png\u001b[0m\n",
      "\u001b[32m2025-03-20 16:04:15.565\u001b[0m | \u001b[1mINFO    \u001b[0m | \u001b[36m__main__\u001b[0m:\u001b[36mcompute_and_plot_shaps\u001b[0m:\u001b[36m11\u001b[0m - \u001b[1mSaved figure as shap_rrs_env_chl.png\u001b[0m\n",
      "\u001b[32m2025-03-20 16:04:22.830\u001b[0m | \u001b[1mINFO    \u001b[0m | \u001b[36m__main__\u001b[0m:\u001b[36mcompute_and_plot_shaps\u001b[0m:\u001b[36m11\u001b[0m - \u001b[1mSaved figure as shap_rrs_env_cya.png\u001b[0m\n",
      "\u001b[32m2025-03-20 16:04:35.433\u001b[0m | \u001b[1mINFO    \u001b[0m | \u001b[36m__main__\u001b[0m:\u001b[36mcompute_and_plot_shaps\u001b[0m:\u001b[36m11\u001b[0m - \u001b[1mSaved figure as shap_rrs_env_coc.png\u001b[0m\n",
      "\u001b[32m2025-03-20 16:04:41.657\u001b[0m | \u001b[1mINFO    \u001b[0m | \u001b[36m__main__\u001b[0m:\u001b[36mcompute_and_plot_shaps\u001b[0m:\u001b[36m11\u001b[0m - \u001b[1mSaved figure as shap_rrs_env_din.png\u001b[0m\n",
      "\u001b[32m2025-03-20 16:04:51.977\u001b[0m | \u001b[1mINFO    \u001b[0m | \u001b[36m__main__\u001b[0m:\u001b[36mcompute_and_plot_shaps\u001b[0m:\u001b[36m11\u001b[0m - \u001b[1mSaved figure as shap_rrs_env_pha.png\u001b[0m\n",
      "\u001b[32m2025-03-20 16:05:03.322\u001b[0m | \u001b[1mINFO    \u001b[0m | \u001b[36m__main__\u001b[0m:\u001b[36mcompute_and_plot_shaps\u001b[0m:\u001b[36m11\u001b[0m - \u001b[1mSaved figure as shap_rrs_env_tot_cphyl.png\u001b[0m\n"
     ]
    },
    {
     "data": {
      "text/plain": [
       "<Figure size 800x390 with 0 Axes>"
      ]
     },
     "metadata": {},
     "output_type": "display_data"
    }
   ],
   "source": [
    "for k, v in model_nums.items():\n",
    "    compute_and_plot_shaps(\n",
    "        target=k, model_num=v, show_n_features=6,\n",
    "        xlabel='', title=full_names[k])"
   ]
  },
  {
   "cell_type": "markdown",
   "metadata": {},
   "source": []
  }
 ],
 "metadata": {
  "kernelspec": {
   "display_name": "ptoa_py312",
   "language": "python",
   "name": "python3"
  },
  "language_info": {
   "codemirror_mode": {
    "name": "ipython",
    "version": 3
   },
   "file_extension": ".py",
   "mimetype": "text/x-python",
   "name": "python",
   "nbconvert_exporter": "python",
   "pygments_lexer": "ipython3",
   "version": "3.12.8"
  }
 },
 "nbformat": 4,
 "nbformat_minor": 2
}
