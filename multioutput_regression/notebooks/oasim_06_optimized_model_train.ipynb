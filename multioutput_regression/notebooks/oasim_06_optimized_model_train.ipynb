{
 "cells": [
  {
   "cell_type": "code",
   "execution_count": 1,
   "metadata": {},
   "outputs": [
    {
     "name": "stderr",
     "output_type": "stream",
     "text": [
      "/Users/erdemkarakoylu/miniconda3/envs/ptoa_py312/lib/python3.12/site-packages/shap/plots/colors/_colorconv.py:819: DeprecationWarning: Converting `np.inexact` or `np.floating` to a dtype is deprecated. The current result is `float64` which is not strictly correct.\n",
      "  if np.issubdtype(dtype_in, np.dtype(dtype).type):\n"
     ]
    }
   ],
   "source": [
    "import sys\n",
    "from pathlib import Path\n",
    "import pandas as pd\n",
    "import warnings\n",
    "import joblib\n",
    "\n",
    "project_path = Path.cwd().parent\n",
    "sys.path.append(project_path.as_posix())\n",
    "from pipeline.p1_model_trainer import XGBoostTrainer\n",
    "from sklearn.model_selection import train_test_split\n",
    "from loguru import logger\n",
    "\n",
    "from scripts.plot_utils import plot_regression, plot_residuals\n",
    "from scripts.evaluate import model_eval\n",
    "import matplotlib.pyplot as pp"
   ]
  },
  {
   "cell_type": "code",
   "execution_count": 2,
   "metadata": {},
   "outputs": [],
   "source": [
    "warnings.filterwarnings(\"ignore\", category=DeprecationWarning)\n",
    "warnings.filterwarnings(\"ignore\", category=FutureWarning)"
   ]
  },
  {
   "cell_type": "code",
   "execution_count": 3,
   "metadata": {},
   "outputs": [],
   "source": [
    "dX_train = pd.read_parquet(project_path/'models/dX_train.pqt')\n",
    "dY_train = pd.read_parquet(project_path/'models/dY_train.pqt')\n",
    "dX_test = pd.read_parquet(project_path/'models/dX_test.pqt')\n",
    "dY_test = pd.read_parquet(project_path/'models/dY_test.pqt')"
   ]
  },
  {
   "cell_type": "code",
   "execution_count": 4,
   "metadata": {},
   "outputs": [],
   "source": [
    "best_params = pd.read_parquet('./tabled_results/best_hpo_hyperparams.pqt')"
   ]
  },
  {
   "cell_type": "code",
   "execution_count": 5,
   "metadata": {},
   "outputs": [],
   "source": [
    "best_params_dict = pd.Series(best_params.values.flatten(), index=best_params.index).to_dict()"
   ]
  },
  {
   "cell_type": "code",
   "execution_count": 6,
   "metadata": {},
   "outputs": [],
   "source": [
    "best_params_dict['max_depth'] = int(best_params_dict['max_depth'])\n",
    "best_params_dict['n_estimators'] = int(best_params_dict['n_estimators'])"
   ]
  },
  {
   "cell_type": "code",
   "execution_count": 7,
   "metadata": {},
   "outputs": [
    {
     "data": {
      "text/plain": [
       "{'learning_rate': 0.08301458467594765,\n",
       " 'max_depth': 10,\n",
       " 'n_estimators': 466,\n",
       " 'subsample': 0.6577479197695524,\n",
       " 'colsample_bytree': 0.8935835004842283,\n",
       " 'gamma': 8.631996891289372e-06}"
      ]
     },
     "execution_count": 7,
     "metadata": {},
     "output_type": "execute_result"
    }
   ],
   "source": [
    "best_params_dict"
   ]
  },
  {
   "cell_type": "code",
   "execution_count": 8,
   "metadata": {},
   "outputs": [],
   "source": [
    "optimized_model_trainer = XGBoostTrainer(params=best_params_dict)"
   ]
  },
  {
   "cell_type": "code",
   "execution_count": 9,
   "metadata": {},
   "outputs": [],
   "source": [
    "optimized_model = optimized_model_trainer.train_model(\n",
    "    dX_train, dY_train)"
   ]
  },
  {
   "cell_type": "code",
   "execution_count": 10,
   "metadata": {},
   "outputs": [
    {
     "name": "stderr",
     "output_type": "stream",
     "text": [
      "\u001b[32m2025-03-20 13:05:17.458\u001b[0m | \u001b[1mINFO    \u001b[0m | \u001b[36m__main__\u001b[0m:\u001b[36m<module>\u001b[0m:\u001b[36m3\u001b[0m - \u001b[1mModel saved to models/optimzied_model.pkl\u001b[0m\n"
     ]
    }
   ],
   "source": [
    "# Save the final model to a file\n",
    "joblib.dump(optimized_model, project_path / \"models/optimized_trained_model.pkl\")\n",
    "logger.info(\"Model saved to models/optimzied_model.pkl\")"
   ]
  },
  {
   "cell_type": "code",
   "execution_count": null,
   "metadata": {},
   "outputs": [],
   "source": []
  }
 ],
 "metadata": {
  "kernelspec": {
   "display_name": "ptoa_py312",
   "language": "python",
   "name": "python3"
  },
  "language_info": {
   "codemirror_mode": {
    "name": "ipython",
    "version": 3
   },
   "file_extension": ".py",
   "mimetype": "text/x-python",
   "name": "python",
   "nbconvert_exporter": "python",
   "pygments_lexer": "ipython3",
   "version": "3.12.8"
  }
 },
 "nbformat": 4,
 "nbformat_minor": 2
}
