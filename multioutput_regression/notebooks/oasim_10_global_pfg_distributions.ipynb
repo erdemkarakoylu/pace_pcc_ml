{
 "cells": [
  {
   "cell_type": "markdown",
   "metadata": {},
   "source": [
    "# Global PFG Distribution Maps (Model Prediction)\n",
    "\n",
    "This notebook uses the fully trained XGBoost model (based on all 51 hyperspectral bands + auxiliary features) to generate global prediction maps of phytoplankton functional group (PFG) concentrations, including total chlorophyll-a. These visualizations aim to highlight spatial patterns and ecological realism captured by the model.\n",
    "\n",
    "## Objectives\n",
    "\n",
    "1. Load a withheld or unseen simulated global dataset representing a different time or scene.\n",
    "2. Apply the trained XGBoost model to predict:\n",
    "   - Total chlorophyll-a\n",
    "   - Six individual PFG concentrations\n",
    "3. Create a static map (plate) for each output variable (7 total):\n",
    "   - Use consistent color scales where possible.\n",
    "   - Annotate axes and colorbars clearly.\n",
    "4. Arrange the maps into a clean 2-row layout (e.g., 2x4 grid), with:\n",
    "   - Common titles and labels\n",
    "   - Shared figure caption (for portfolio/publication use)\n",
    "5. Optionally export high-resolution figures for manuscript or web use.\n",
    "\n",
    "> 🌍 This notebook visually demonstrates the model’s ecological skill and supports interpretation of SHAP results by showing geographic distributions."
   ]
  },
  {
   "cell_type": "markdown",
   "metadata": {},
   "source": []
  }
 ],
 "metadata": {
  "language_info": {
   "name": "python"
  }
 },
 "nbformat": 4,
 "nbformat_minor": 2
}
